{
  "nbformat": 4,
  "nbformat_minor": 0,
  "metadata": {
    "colab": {
      "name": "Vehicle-Insurance Datasets Classification Using K-Means Algorithm",
      "provenance": [],
      "collapsed_sections": [],
      "toc_visible": true
    },
    "kernelspec": {
      "name": "python3",
      "display_name": "Python 3"
    },
    "language_info": {
      "name": "python"
    },
    "accelerator": "GPU"
  },
  "cells": [
    {
      "cell_type": "markdown",
      "metadata": {
        "id": "3neMKHS_5_9d"
      },
      "source": [
        "#SUPERVISED LEARNING - CLASSIFICATION : DATASET KENDARAAN\n",
        "oleh:\tMUHAMMAD SHULHANNUR mshulhannur@gmail.com\n",
        "\n",
        "Algoritma = k-Nearest Neighbor    \n",
        "Banyak tetangga (k) = 13 {1,3,5,...,25}   \n",
        "banyak data train = 5000   \n",
        "banyak data test = 1000   \n",
        "Penghitungan jarak = Euclidean Distance   \n",
        "Kolom yg dipakaI = Jenis_Kelamin, Umur, Kendaraan_Rusak, Sudah_Asuransi, Premi, Lama_Berlangganan"
      ]
    },
    {
      "cell_type": "markdown",
      "metadata": {
        "id": "6_FDOV1G8GKq"
      },
      "source": [
        "#LAKUKAN IMPORT LIBRARIES"
      ]
    },
    {
      "cell_type": "code",
      "metadata": {
        "id": "zsE4PhZ68UAj"
      },
      "source": [
        "#untuk data analysis and manipulation\n",
        "import pandas as pd\n",
        "\n",
        "#untuk matematika\n",
        "import numpy as np\n",
        "\n",
        "#untuk matematika\n",
        "import math\n",
        "\n",
        "#untuk grafik 2D\n",
        "import matplotlib.pyplot as plt\n",
        "\n",
        "#untuk url\n",
        "import io\n",
        "\n",
        "#untuk request file from url\n",
        "import requests\n",
        "\n",
        "#untuk request file from url\n",
        "import time"
      ],
      "execution_count": null,
      "outputs": []
    },
    {
      "cell_type": "markdown",
      "metadata": {
        "id": "W-34H56094I8"
      },
      "source": [
        "#DATA PREPROCESSING"
      ]
    },
    {
      "cell_type": "markdown",
      "metadata": {
        "id": "K3uySx8M8z_T"
      },
      "source": [
        "##READ FILES INTO DATASETS"
      ]
    },
    {
      "cell_type": "code",
      "metadata": {
        "id": "WTNUM18O81Db",
        "colab": {
          "base_uri": "https://localhost:8080/",
          "height": 406
        },
        "outputId": "c131dcb3-b071-4df8-d91f-248567de4bc6"
      },
      "source": [
        "# Read kendaraan_train.csv file into DataFrame\n",
        "url_datatraining = \"https://cdn.discordapp.com/attachments/756550576640360469/833533583331164190/kendaraan_train.csv\"\n",
        "training = requests.get(url_datatraining).content\n",
        "train = pd.read_csv(io.StringIO(training.decode('utf-8')), nrows=5000)\n",
        "train = train.drop(columns = ['id','Kode_Daerah','Umur_Kendaraan','Kanal_Penjualan','SIM'])\n",
        "train"
      ],
      "execution_count": null,
      "outputs": [
        {
          "output_type": "execute_result",
          "data": {
            "text/html": [
              "<div>\n",
              "<style scoped>\n",
              "    .dataframe tbody tr th:only-of-type {\n",
              "        vertical-align: middle;\n",
              "    }\n",
              "\n",
              "    .dataframe tbody tr th {\n",
              "        vertical-align: top;\n",
              "    }\n",
              "\n",
              "    .dataframe thead th {\n",
              "        text-align: right;\n",
              "    }\n",
              "</style>\n",
              "<table border=\"1\" class=\"dataframe\">\n",
              "  <thead>\n",
              "    <tr style=\"text-align: right;\">\n",
              "      <th></th>\n",
              "      <th>Jenis_Kelamin</th>\n",
              "      <th>Umur</th>\n",
              "      <th>Sudah_Asuransi</th>\n",
              "      <th>Kendaraan_Rusak</th>\n",
              "      <th>Premi</th>\n",
              "      <th>Lama_Berlangganan</th>\n",
              "      <th>Tertarik</th>\n",
              "    </tr>\n",
              "  </thead>\n",
              "  <tbody>\n",
              "    <tr>\n",
              "      <th>0</th>\n",
              "      <td>Wanita</td>\n",
              "      <td>30.0</td>\n",
              "      <td>1.0</td>\n",
              "      <td>Tidak</td>\n",
              "      <td>28029.0</td>\n",
              "      <td>97.0</td>\n",
              "      <td>0</td>\n",
              "    </tr>\n",
              "    <tr>\n",
              "      <th>1</th>\n",
              "      <td>Pria</td>\n",
              "      <td>48.0</td>\n",
              "      <td>0.0</td>\n",
              "      <td>Pernah</td>\n",
              "      <td>25800.0</td>\n",
              "      <td>158.0</td>\n",
              "      <td>0</td>\n",
              "    </tr>\n",
              "    <tr>\n",
              "      <th>2</th>\n",
              "      <td>NaN</td>\n",
              "      <td>21.0</td>\n",
              "      <td>1.0</td>\n",
              "      <td>Tidak</td>\n",
              "      <td>32733.0</td>\n",
              "      <td>119.0</td>\n",
              "      <td>0</td>\n",
              "    </tr>\n",
              "    <tr>\n",
              "      <th>3</th>\n",
              "      <td>Wanita</td>\n",
              "      <td>58.0</td>\n",
              "      <td>0.0</td>\n",
              "      <td>Tidak</td>\n",
              "      <td>2630.0</td>\n",
              "      <td>63.0</td>\n",
              "      <td>0</td>\n",
              "    </tr>\n",
              "    <tr>\n",
              "      <th>4</th>\n",
              "      <td>Pria</td>\n",
              "      <td>50.0</td>\n",
              "      <td>0.0</td>\n",
              "      <td>NaN</td>\n",
              "      <td>34857.0</td>\n",
              "      <td>194.0</td>\n",
              "      <td>0</td>\n",
              "    </tr>\n",
              "    <tr>\n",
              "      <th>...</th>\n",
              "      <td>...</td>\n",
              "      <td>...</td>\n",
              "      <td>...</td>\n",
              "      <td>...</td>\n",
              "      <td>...</td>\n",
              "      <td>...</td>\n",
              "      <td>...</td>\n",
              "    </tr>\n",
              "    <tr>\n",
              "      <th>4995</th>\n",
              "      <td>NaN</td>\n",
              "      <td>NaN</td>\n",
              "      <td>0.0</td>\n",
              "      <td>Pernah</td>\n",
              "      <td>2630.0</td>\n",
              "      <td>284.0</td>\n",
              "      <td>0</td>\n",
              "    </tr>\n",
              "    <tr>\n",
              "      <th>4996</th>\n",
              "      <td>Wanita</td>\n",
              "      <td>65.0</td>\n",
              "      <td>1.0</td>\n",
              "      <td>Pernah</td>\n",
              "      <td>44627.0</td>\n",
              "      <td>162.0</td>\n",
              "      <td>0</td>\n",
              "    </tr>\n",
              "    <tr>\n",
              "      <th>4997</th>\n",
              "      <td>Pria</td>\n",
              "      <td>29.0</td>\n",
              "      <td>0.0</td>\n",
              "      <td>Pernah</td>\n",
              "      <td>27973.0</td>\n",
              "      <td>210.0</td>\n",
              "      <td>1</td>\n",
              "    </tr>\n",
              "    <tr>\n",
              "      <th>4998</th>\n",
              "      <td>Pria</td>\n",
              "      <td>57.0</td>\n",
              "      <td>0.0</td>\n",
              "      <td>Pernah</td>\n",
              "      <td>NaN</td>\n",
              "      <td>21.0</td>\n",
              "      <td>0</td>\n",
              "    </tr>\n",
              "    <tr>\n",
              "      <th>4999</th>\n",
              "      <td>Pria</td>\n",
              "      <td>51.0</td>\n",
              "      <td>0.0</td>\n",
              "      <td>Pernah</td>\n",
              "      <td>35279.0</td>\n",
              "      <td>NaN</td>\n",
              "      <td>0</td>\n",
              "    </tr>\n",
              "  </tbody>\n",
              "</table>\n",
              "<p>5000 rows × 7 columns</p>\n",
              "</div>"
            ],
            "text/plain": [
              "     Jenis_Kelamin  Umur  Sudah_Asuransi  ...    Premi  Lama_Berlangganan  Tertarik\n",
              "0           Wanita  30.0             1.0  ...  28029.0               97.0         0\n",
              "1             Pria  48.0             0.0  ...  25800.0              158.0         0\n",
              "2              NaN  21.0             1.0  ...  32733.0              119.0         0\n",
              "3           Wanita  58.0             0.0  ...   2630.0               63.0         0\n",
              "4             Pria  50.0             0.0  ...  34857.0              194.0         0\n",
              "...            ...   ...             ...  ...      ...                ...       ...\n",
              "4995           NaN   NaN             0.0  ...   2630.0              284.0         0\n",
              "4996        Wanita  65.0             1.0  ...  44627.0              162.0         0\n",
              "4997          Pria  29.0             0.0  ...  27973.0              210.0         1\n",
              "4998          Pria  57.0             0.0  ...      NaN               21.0         0\n",
              "4999          Pria  51.0             0.0  ...  35279.0                NaN         0\n",
              "\n",
              "[5000 rows x 7 columns]"
            ]
          },
          "metadata": {
            "tags": []
          },
          "execution_count": 2
        }
      ]
    },
    {
      "cell_type": "code",
      "metadata": {
        "id": "Hz70_nZe9T1v",
        "colab": {
          "base_uri": "https://localhost:8080/",
          "height": 406
        },
        "outputId": "29f87a86-6211-4800-aae2-d1c69b06f5e7"
      },
      "source": [
        "# Read kendaraan_test.csv file into DataFrame\n",
        "url_datatesting=\"https://cdn.discordapp.com/attachments/756550576640360469/833533558941024266/kendaraan_test.csv\"\n",
        "testing=requests.get(url_datatesting).content\n",
        "test = pd.read_csv(io.StringIO(testing.decode('utf-8')), nrows=1000)\n",
        "test = test.drop(columns = ['Kode_Daerah','Umur_Kendaraan','Kanal_Penjualan','SIM'])\n",
        "test"
      ],
      "execution_count": null,
      "outputs": [
        {
          "output_type": "execute_result",
          "data": {
            "text/html": [
              "<div>\n",
              "<style scoped>\n",
              "    .dataframe tbody tr th:only-of-type {\n",
              "        vertical-align: middle;\n",
              "    }\n",
              "\n",
              "    .dataframe tbody tr th {\n",
              "        vertical-align: top;\n",
              "    }\n",
              "\n",
              "    .dataframe thead th {\n",
              "        text-align: right;\n",
              "    }\n",
              "</style>\n",
              "<table border=\"1\" class=\"dataframe\">\n",
              "  <thead>\n",
              "    <tr style=\"text-align: right;\">\n",
              "      <th></th>\n",
              "      <th>Jenis_Kelamin</th>\n",
              "      <th>Umur</th>\n",
              "      <th>Sudah_Asuransi</th>\n",
              "      <th>Kendaraan_Rusak</th>\n",
              "      <th>Premi</th>\n",
              "      <th>Lama_Berlangganan</th>\n",
              "      <th>Tertarik</th>\n",
              "    </tr>\n",
              "  </thead>\n",
              "  <tbody>\n",
              "    <tr>\n",
              "      <th>0</th>\n",
              "      <td>Wanita</td>\n",
              "      <td>49</td>\n",
              "      <td>0</td>\n",
              "      <td>Pernah</td>\n",
              "      <td>46963</td>\n",
              "      <td>145</td>\n",
              "      <td>0</td>\n",
              "    </tr>\n",
              "    <tr>\n",
              "      <th>1</th>\n",
              "      <td>Pria</td>\n",
              "      <td>22</td>\n",
              "      <td>1</td>\n",
              "      <td>Tidak</td>\n",
              "      <td>39624</td>\n",
              "      <td>241</td>\n",
              "      <td>0</td>\n",
              "    </tr>\n",
              "    <tr>\n",
              "      <th>2</th>\n",
              "      <td>Pria</td>\n",
              "      <td>24</td>\n",
              "      <td>1</td>\n",
              "      <td>Tidak</td>\n",
              "      <td>110479</td>\n",
              "      <td>62</td>\n",
              "      <td>0</td>\n",
              "    </tr>\n",
              "    <tr>\n",
              "      <th>3</th>\n",
              "      <td>Pria</td>\n",
              "      <td>46</td>\n",
              "      <td>1</td>\n",
              "      <td>Tidak</td>\n",
              "      <td>36266</td>\n",
              "      <td>34</td>\n",
              "      <td>0</td>\n",
              "    </tr>\n",
              "    <tr>\n",
              "      <th>4</th>\n",
              "      <td>Pria</td>\n",
              "      <td>35</td>\n",
              "      <td>0</td>\n",
              "      <td>Pernah</td>\n",
              "      <td>26963</td>\n",
              "      <td>229</td>\n",
              "      <td>0</td>\n",
              "    </tr>\n",
              "    <tr>\n",
              "      <th>...</th>\n",
              "      <td>...</td>\n",
              "      <td>...</td>\n",
              "      <td>...</td>\n",
              "      <td>...</td>\n",
              "      <td>...</td>\n",
              "      <td>...</td>\n",
              "      <td>...</td>\n",
              "    </tr>\n",
              "    <tr>\n",
              "      <th>995</th>\n",
              "      <td>Wanita</td>\n",
              "      <td>29</td>\n",
              "      <td>0</td>\n",
              "      <td>Pernah</td>\n",
              "      <td>2630</td>\n",
              "      <td>65</td>\n",
              "      <td>0</td>\n",
              "    </tr>\n",
              "    <tr>\n",
              "      <th>996</th>\n",
              "      <td>Pria</td>\n",
              "      <td>43</td>\n",
              "      <td>0</td>\n",
              "      <td>Pernah</td>\n",
              "      <td>35416</td>\n",
              "      <td>64</td>\n",
              "      <td>0</td>\n",
              "    </tr>\n",
              "    <tr>\n",
              "      <th>997</th>\n",
              "      <td>Wanita</td>\n",
              "      <td>49</td>\n",
              "      <td>0</td>\n",
              "      <td>Pernah</td>\n",
              "      <td>62108</td>\n",
              "      <td>38</td>\n",
              "      <td>0</td>\n",
              "    </tr>\n",
              "    <tr>\n",
              "      <th>998</th>\n",
              "      <td>Pria</td>\n",
              "      <td>45</td>\n",
              "      <td>0</td>\n",
              "      <td>Pernah</td>\n",
              "      <td>43707</td>\n",
              "      <td>247</td>\n",
              "      <td>0</td>\n",
              "    </tr>\n",
              "    <tr>\n",
              "      <th>999</th>\n",
              "      <td>Pria</td>\n",
              "      <td>35</td>\n",
              "      <td>0</td>\n",
              "      <td>Tidak</td>\n",
              "      <td>39402</td>\n",
              "      <td>63</td>\n",
              "      <td>0</td>\n",
              "    </tr>\n",
              "  </tbody>\n",
              "</table>\n",
              "<p>1000 rows × 7 columns</p>\n",
              "</div>"
            ],
            "text/plain": [
              "    Jenis_Kelamin  Umur  Sudah_Asuransi  ...   Premi  Lama_Berlangganan  Tertarik\n",
              "0          Wanita    49               0  ...   46963                145         0\n",
              "1            Pria    22               1  ...   39624                241         0\n",
              "2            Pria    24               1  ...  110479                 62         0\n",
              "3            Pria    46               1  ...   36266                 34         0\n",
              "4            Pria    35               0  ...   26963                229         0\n",
              "..            ...   ...             ...  ...     ...                ...       ...\n",
              "995        Wanita    29               0  ...    2630                 65         0\n",
              "996          Pria    43               0  ...   35416                 64         0\n",
              "997        Wanita    49               0  ...   62108                 38         0\n",
              "998          Pria    45               0  ...   43707                247         0\n",
              "999          Pria    35               0  ...   39402                 63         0\n",
              "\n",
              "[1000 rows x 7 columns]"
            ]
          },
          "metadata": {
            "tags": []
          },
          "execution_count": 3
        }
      ]
    },
    {
      "cell_type": "markdown",
      "metadata": {
        "id": "AvqDCDMq_oOT"
      },
      "source": [
        "##TENTUKAN NILAI K"
      ]
    },
    {
      "cell_type": "code",
      "metadata": {
        "id": "83jj5ojmT3KQ"
      },
      "source": [
        "K_VALUES = [1,3,5,7,9,11,13,15,17,19,21,23,25]"
      ],
      "execution_count": null,
      "outputs": []
    },
    {
      "cell_type": "code",
      "metadata": {
        "colab": {
          "base_uri": "https://localhost:8080/",
          "height": 197
        },
        "id": "O0jZHZOcrygd",
        "outputId": "c86f8c0c-6472-48e3-9985-0be3f00d9e01"
      },
      "source": [
        "test.head()"
      ],
      "execution_count": null,
      "outputs": [
        {
          "output_type": "execute_result",
          "data": {
            "text/html": [
              "<div>\n",
              "<style scoped>\n",
              "    .dataframe tbody tr th:only-of-type {\n",
              "        vertical-align: middle;\n",
              "    }\n",
              "\n",
              "    .dataframe tbody tr th {\n",
              "        vertical-align: top;\n",
              "    }\n",
              "\n",
              "    .dataframe thead th {\n",
              "        text-align: right;\n",
              "    }\n",
              "</style>\n",
              "<table border=\"1\" class=\"dataframe\">\n",
              "  <thead>\n",
              "    <tr style=\"text-align: right;\">\n",
              "      <th></th>\n",
              "      <th>Jenis_Kelamin</th>\n",
              "      <th>Umur</th>\n",
              "      <th>Sudah_Asuransi</th>\n",
              "      <th>Kendaraan_Rusak</th>\n",
              "      <th>Premi</th>\n",
              "      <th>Lama_Berlangganan</th>\n",
              "      <th>Tertarik</th>\n",
              "    </tr>\n",
              "  </thead>\n",
              "  <tbody>\n",
              "    <tr>\n",
              "      <th>0</th>\n",
              "      <td>Wanita</td>\n",
              "      <td>49</td>\n",
              "      <td>0</td>\n",
              "      <td>Pernah</td>\n",
              "      <td>46963</td>\n",
              "      <td>145</td>\n",
              "      <td>0</td>\n",
              "    </tr>\n",
              "    <tr>\n",
              "      <th>1</th>\n",
              "      <td>Pria</td>\n",
              "      <td>22</td>\n",
              "      <td>1</td>\n",
              "      <td>Tidak</td>\n",
              "      <td>39624</td>\n",
              "      <td>241</td>\n",
              "      <td>0</td>\n",
              "    </tr>\n",
              "    <tr>\n",
              "      <th>2</th>\n",
              "      <td>Pria</td>\n",
              "      <td>24</td>\n",
              "      <td>1</td>\n",
              "      <td>Tidak</td>\n",
              "      <td>110479</td>\n",
              "      <td>62</td>\n",
              "      <td>0</td>\n",
              "    </tr>\n",
              "    <tr>\n",
              "      <th>3</th>\n",
              "      <td>Pria</td>\n",
              "      <td>46</td>\n",
              "      <td>1</td>\n",
              "      <td>Tidak</td>\n",
              "      <td>36266</td>\n",
              "      <td>34</td>\n",
              "      <td>0</td>\n",
              "    </tr>\n",
              "    <tr>\n",
              "      <th>4</th>\n",
              "      <td>Pria</td>\n",
              "      <td>35</td>\n",
              "      <td>0</td>\n",
              "      <td>Pernah</td>\n",
              "      <td>26963</td>\n",
              "      <td>229</td>\n",
              "      <td>0</td>\n",
              "    </tr>\n",
              "  </tbody>\n",
              "</table>\n",
              "</div>"
            ],
            "text/plain": [
              "  Jenis_Kelamin  Umur  Sudah_Asuransi  ...   Premi  Lama_Berlangganan  Tertarik\n",
              "0        Wanita    49               0  ...   46963                145         0\n",
              "1          Pria    22               1  ...   39624                241         0\n",
              "2          Pria    24               1  ...  110479                 62         0\n",
              "3          Pria    46               1  ...   36266                 34         0\n",
              "4          Pria    35               0  ...   26963                229         0\n",
              "\n",
              "[5 rows x 7 columns]"
            ]
          },
          "metadata": {
            "tags": []
          },
          "execution_count": 5
        }
      ]
    },
    {
      "cell_type": "markdown",
      "metadata": {
        "id": "7zU40oAw_Nu5"
      },
      "source": [
        "##LAKUKAN DATA CLEANSING"
      ]
    },
    {
      "cell_type": "code",
      "metadata": {
        "id": "2K3F_QolUGl1"
      },
      "source": [
        "# method untuk cleansing data, untuk data non numerik yaitu Jenis_Kelamin dan Kendaraan_Rusak juga mengisi data yang kosong dengan nilai means kolom\n",
        "def preprocess(dataset):\n",
        "  gender = []\n",
        "  broken = []\n",
        "  for idx, node in dataset.iterrows():\n",
        "    gender.append(1 if node['Jenis_Kelamin'] == 'Pria' else 0)\n",
        "    broken.append(1 if node['Kendaraan_Rusak'] == 'Pernah' else 0)\n",
        "  dataset[\"Jenis_Kelamin\"] = gender\n",
        "  dataset[\"Kendaraan_Rusak\"] = broken\n",
        "  # proses pengisian data yang kosong di kolom numerik\n",
        "  for key in dataset.columns:\n",
        "    # data kosong di isi dengan nilai mean dari kolom\n",
        "    dataset[key].fillna(dataset[key].mean(), inplace=True)"
      ],
      "execution_count": null,
      "outputs": []
    },
    {
      "cell_type": "markdown",
      "metadata": {
        "id": "6EBYfvdj_RAq"
      },
      "source": [
        "##NORMALISASIKAN TABEL"
      ]
    },
    {
      "cell_type": "code",
      "metadata": {
        "id": "NFGorMbiUIOu"
      },
      "source": [
        "# menormalisasikan seluruh field\n",
        "def normalizeAllNumericFields(dataset):\n",
        "  numeric_field = dataset._get_numeric_data().columns\n",
        "  for key in numeric_field:\n",
        "      dataset[key] = (dataset[key] - dataset[key].min()) / (dataset[key].max() - dataset[key].min())"
      ],
      "execution_count": null,
      "outputs": []
    },
    {
      "cell_type": "markdown",
      "metadata": {
        "id": "P7dJNd_CADPr"
      },
      "source": [
        "#OBSERVASI"
      ]
    },
    {
      "cell_type": "markdown",
      "metadata": {
        "id": "uprY0Q5Q_kjs"
      },
      "source": [
        "##TENTUKAN NILAI EUCLEDIAN DISTANCE"
      ]
    },
    {
      "cell_type": "code",
      "metadata": {
        "id": "-PBGOP9YwCTB"
      },
      "source": [
        "# menghitung jarak eucledian\n",
        "def eucledian(train, test):\n",
        "  keys = ['Jenis_Kelamin','Umur','Kendaraan_Rusak','Sudah_Asuransi','Premi','Lama_Berlangganan']\n",
        "  total = 0\n",
        "  for key in keys:\n",
        "    total = total + math.pow(test[key] - train[key], 2)\n",
        "  return math.sqrt(total)"
      ],
      "execution_count": null,
      "outputs": []
    },
    {
      "cell_type": "markdown",
      "metadata": {
        "id": "NLDld-UaAH4E"
      },
      "source": [
        "##HITUNG NILAI KNN"
      ]
    },
    {
      "cell_type": "code",
      "metadata": {
        "id": "E9BNEY72wPKV"
      },
      "source": [
        "# menentukan hasil knn berdasarkan jarak eucledian terdekat\n",
        "def define_outcome(dataset, k):\n",
        "  datas = dataset[0:k]\n",
        "  # menghitung banyak case dengan output 1\n",
        "  totalPositive = [1 for case in datas.iterrows() if case[1]['Tertarik'] == 1]\n",
        "  # menghitung banyak case dengan output 0\n",
        "  totalNegative = [0 for case in datas.iterrows() if case[1]['Tertarik'] == 0]\n",
        "  # jika lebih banyak case dengan output 1 maka hasil knn adalah 1 dan sebaliknya\n",
        "  if len(totalPositive) > len(totalNegative):\n",
        "      return 1\n",
        "  else:\n",
        "      return 0"
      ],
      "execution_count": null,
      "outputs": []
    },
    {
      "cell_type": "markdown",
      "metadata": {
        "id": "dnM9XzS4AUTC"
      },
      "source": [
        "##HITUNG NILAI AKURASI"
      ]
    },
    {
      "cell_type": "code",
      "metadata": {
        "id": "BZi9m72i1s5V"
      },
      "source": [
        "# menghitung akurasi\n",
        "def calc_accurracy(miss_outcome, pass_outcome):\n",
        "  total = miss_outcome + pass_outcome\n",
        "  return float(pass_outcome) * 100 / total"
      ],
      "execution_count": null,
      "outputs": []
    },
    {
      "cell_type": "markdown",
      "metadata": {
        "id": "pg4djmxOAXr8"
      },
      "source": [
        "#EKSEKUSI"
      ]
    },
    {
      "cell_type": "markdown",
      "metadata": {
        "id": "sRJuXOPCBemA"
      },
      "source": [
        "##PEMANGGILAN FUNGSI"
      ]
    },
    {
      "cell_type": "code",
      "metadata": {
        "id": "CskWbt-ZwPOd"
      },
      "source": [
        "# proses utama KNN\n",
        "def k_nn(train, test, k):\n",
        "  temp_outcome = []\n",
        "  for test_case in test.iterrows():\n",
        "    temp = []\n",
        "    for train_case in train.iterrows():\n",
        "      temp.append(eucledian(train_case[1], test_case[1]))\n",
        "    train['eucledian'] = temp\n",
        "    sorted_by_eucledian = train.sort_values('eucledian')\n",
        "    temp_outcome.append(define_outcome(sorted_by_eucledian, k))\n",
        "  test['outcome'] = temp_outcome\n",
        "  return(test)"
      ],
      "execution_count": null,
      "outputs": []
    },
    {
      "cell_type": "markdown",
      "metadata": {
        "id": "b_TWFbjgBklV"
      },
      "source": [
        "##READ DATASETS INTO FILES"
      ]
    },
    {
      "cell_type": "code",
      "metadata": {
        "id": "QouMVmKCeTeb"
      },
      "source": [
        "# export hasil ke csv\n",
        "def exportCSV(hasil,k):\n",
        "  df = hasil[['outcome','Tertarik','status']]\n",
        "  nama = 'tetangga '+str(k)+' | k-NN.csv'\n",
        "  df.to_csv(nama)\n",
        "  print(\"\\nexport file \",nama,'selesai')"
      ],
      "execution_count": null,
      "outputs": []
    },
    {
      "cell_type": "markdown",
      "metadata": {
        "id": "C6pz_yQrBvl0"
      },
      "source": [
        "##MAIN"
      ]
    },
    {
      "cell_type": "code",
      "metadata": {
        "colab": {
          "base_uri": "https://localhost:8080/",
          "height": 1000
        },
        "id": "AOgHjgwWj-pX",
        "outputId": "e652c2e6-5aef-4686-af26-a1cb8a17439f"
      },
      "source": [
        "start_time = time.time()\n",
        "preprocess(train)\n",
        "preprocess(test)\n",
        "normalizeAllNumericFields(train)\n",
        "normalizeAllNumericFields(test)\n",
        "# tinggal proses k-nn nya aja\n",
        "res = []\n",
        "start_knn = time.time()\n",
        "for k in K_VALUES:\n",
        "  start = time.time()\n",
        "  output = k_nn(train,test,k)\n",
        "  miss_outcome = 0\n",
        "  pass_outcome = 0\n",
        "  status = []\n",
        "  for test_case in output.iterrows():\n",
        "    if test_case[1]['outcome'] != test_case[1]['Tertarik']:\n",
        "      miss_outcome = miss_outcome + 1\n",
        "      status.append('SALAH')\n",
        "    else:\n",
        "      pass_outcome = pass_outcome + 1\n",
        "      status.append('benar')\n",
        "  acc = calc_accurracy(miss_outcome, pass_outcome)\n",
        "  output['status'] = status\n",
        "  exportCSV(output,k)\n",
        "  res.append(acc)\n",
        "  stop = time.time()\n",
        "  print('akurasi ',k,'- NearestNeighbor :',acc)\n",
        "  print('Runtime :',stop - start)\n",
        "stop_knn = time.time()\n",
        "print('Total Runtime : ',stop_knn - start_knn)\n",
        "plt.plot(K_VALUES, res, 'bx-')\n",
        "plt.ylabel('Akurasi')\n",
        "plt.xlabel('Nilai K')\n",
        "plt.title('K-NN')\n",
        "plt.show()\n",
        "print(\"--- Running for %s seconds ---\" % (time.time() - start_time))"
      ],
      "execution_count": null,
      "outputs": [
        {
          "output_type": "stream",
          "text": [
            "\n",
            "export file  tetangga 1 | k-NN.csv selesai\n",
            "akurasi  1 - NearestNeighbor : 81.1\n",
            "Runtime : 410.52049589157104\n",
            "\n",
            "export file  tetangga 3 | k-NN.csv selesai\n",
            "akurasi  3 - NearestNeighbor : 85.2\n",
            "Runtime : 409.7577600479126\n",
            "\n",
            "export file  tetangga 5 | k-NN.csv selesai\n",
            "akurasi  5 - NearestNeighbor : 85.3\n",
            "Runtime : 409.55032658576965\n",
            "\n",
            "export file  tetangga 7 | k-NN.csv selesai\n",
            "akurasi  7 - NearestNeighbor : 86.0\n",
            "Runtime : 408.7255518436432\n",
            "\n",
            "export file  tetangga 9 | k-NN.csv selesai\n",
            "akurasi  9 - NearestNeighbor : 86.7\n",
            "Runtime : 408.51928997039795\n",
            "\n",
            "export file  tetangga 11 | k-NN.csv selesai\n",
            "akurasi  11 - NearestNeighbor : 86.9\n",
            "Runtime : 408.7905373573303\n",
            "\n",
            "export file  tetangga 13 | k-NN.csv selesai\n",
            "akurasi  13 - NearestNeighbor : 86.5\n",
            "Runtime : 409.499831199646\n",
            "\n",
            "export file  tetangga 15 | k-NN.csv selesai\n",
            "akurasi  15 - NearestNeighbor : 87.1\n",
            "Runtime : 409.92792224884033\n",
            "\n",
            "export file  tetangga 17 | k-NN.csv selesai\n",
            "akurasi  17 - NearestNeighbor : 87.3\n",
            "Runtime : 410.2680721282959\n",
            "\n",
            "export file  tetangga 19 | k-NN.csv selesai\n",
            "akurasi  19 - NearestNeighbor : 87.5\n",
            "Runtime : 415.7912120819092\n",
            "\n",
            "export file  tetangga 21 | k-NN.csv selesai\n",
            "akurasi  21 - NearestNeighbor : 87.8\n",
            "Runtime : 410.2831678390503\n",
            "\n",
            "export file  tetangga 23 | k-NN.csv selesai\n",
            "akurasi  23 - NearestNeighbor : 87.8\n",
            "Runtime : 408.9134006500244\n",
            "\n",
            "export file  tetangga 25 | k-NN.csv selesai\n",
            "akurasi  25 - NearestNeighbor : 87.7\n",
            "Runtime : 409.52611327171326\n",
            "Total Runtime :  5330.079607248306\n"
          ],
          "name": "stdout"
        },
        {
          "output_type": "display_data",
          "data": {
            "image/png": "[encoded data removed]",
            "text/plain": [
              "<Figure size 432x288 with 1 Axes>"
            ]
          },
          "metadata": {
            "tags": [],
            "needs_background": "light"
          }
        },
        {
          "output_type": "stream",
          "text": [
            "--- Running for 5330.6818215847015 seconds ---\n"
          ],
          "name": "stdout"
        }
      ]
    }
  ]
}